{
 "cells": [
  {
   "cell_type": "code",
   "execution_count": 1,
   "metadata": {
    "collapsed": true,
    "deletable": true,
    "editable": true
   },
   "outputs": [],
   "source": [
    "import numpy as np\n",
    "import pandas as pd\n",
    "import matplotlib.pyplot as plt\n",
    "import seaborn as sns\n",
    "from helpers.dataloader import *\n",
    "import pickle\n",
    "import os\n",
    "import time\n",
    "import copy\n",
    "import torch\n",
    "import torch.nn as nn\n",
    "import torch.nn.functional as F\n",
    "import torchvision\n",
    "from torch.utils.data import Dataset, DataLoader\n",
    "import torchvision.models as models\n",
    "from sklearn.metrics import roc_curve, auc, confusion_matrix, accuracy_score"
   ]
  },
  {
   "cell_type": "code",
   "execution_count": 2,
   "metadata": {
    "collapsed": false,
    "deletable": true,
    "editable": true
   },
   "outputs": [
    {
     "data": {
      "text/plain": [
       "2"
      ]
     },
     "execution_count": 2,
     "metadata": {},
     "output_type": "execute_result"
    }
   ],
   "source": [
    "if torch.cuda.is_available:\n",
    "    device = torch.device('cuda')\n",
    "else:\n",
    "    device = torch.device('cpu')\n",
    "    \n",
    "torch.cuda.device_count()"
   ]
  },
  {
   "cell_type": "code",
   "execution_count": 3,
   "metadata": {
    "collapsed": false,
    "deletable": true,
    "editable": true
   },
   "outputs": [
    {
     "name": "stderr",
     "output_type": "stream",
     "text": [
      "/home/bva212/dl4medProject/helpers/dataloader.py:40: SettingWithCopyWarning: \n",
      "A value is trying to be set on a copy of a slice from a DataFrame\n",
      "\n",
      "See the caveats in the documentation: http://pandas.pydata.org/pandas-docs/stable/indexing.html#indexing-view-versus-copy\n",
      "  self.data_frame['label'][self.data_frame['label'] == 2] = 0\n",
      "/home/bva212/dl4medProject/helpers/dataloader.py:41: SettingWithCopyWarning: \n",
      "A value is trying to be set on a copy of a slice from a DataFrame\n",
      "\n",
      "See the caveats in the documentation: http://pandas.pydata.org/pandas-docs/stable/indexing.html#indexing-view-versus-copy\n",
      "  self.data_frame['label'][self.data_frame['label'] == 3] = 1\n"
     ]
    }
   ],
   "source": [
    "root_dir = '/scratch/bva212/breastCancerData'\n",
    "image_column = 'image file path'\n",
    "batchSize =8\n",
    "num_classes = 2\n",
    "image_resize =1024\n",
    "\n",
    "train_transform = transforms.Compose([\n",
    "        transforms.ToPILImage(),\n",
    "        transforms.Resize([image_resize,image_resize]),\n",
    "        transforms.RandomHorizontalFlip(),\n",
    "        transforms.ToTensor(),\n",
    "        transforms.Normalize([0.485, 0.456, 0.406], [0.229, 0.224, 0.225])])\n",
    "\n",
    "validation_transform = transforms.Compose([\n",
    "        transforms.ToPILImage(),\n",
    "        transforms.Resize([image_resize,image_resize]),\n",
    "        transforms.ToTensor(),\n",
    "        transforms.Normalize([0.485, 0.456, 0.406], [0.229, 0.224, 0.225])])\n",
    "\n",
    "# randomTrainSet, randomValidationSet randomTestSet\n",
    "train_data = CBISDDSMDataset('Train.pkl', root_dir, image_column, num_classes = num_classes, num_channel=3, transform = train_transform, transform_type = None, transform_prob=0.5)\n",
    "val_data = CBISDDSMDataset('Val.pkl', root_dir, image_column, num_classes = num_classes, num_channel=3, transform = validation_transform, transform_type = None, transform_prob=0.5)\n",
    "test_data = CBISDDSMDataset('Test.pkl', root_dir, image_column, num_classes = num_classes, num_channel=3, transform = validation_transform, transform_type = None, transform_prob=0.5)\n",
    "\n",
    "image_datasets = {'train': train_data, 'val': val_data, 'test': test_data}\n",
    "\n",
    "dataloaders = {x: DataLoader(image_datasets[x], batch_size=batchSize, shuffle=True, num_workers=4) for x in ['train', 'val', 'test']}\n",
    "\n",
    "dataset_sizes = {x: len(image_datasets[x]) for x in ['train', 'val', 'test']}"
   ]
  },
  {
   "cell_type": "code",
   "execution_count": 4,
   "metadata": {
    "collapsed": true,
    "deletable": true,
    "editable": true
   },
   "outputs": [],
   "source": [
    "resnet50 = models.resnet50(pretrained=False)"
   ]
  },
  {
   "cell_type": "code",
   "execution_count": 5,
   "metadata": {
    "collapsed": true,
    "deletable": true,
    "editable": true
   },
   "outputs": [],
   "source": [
    "fc_in_features = resnet50.fc.in_features\n",
    "resnet50.fc = torch.nn.Linear(fc_in_features, num_classes)"
   ]
  },
  {
   "cell_type": "code",
   "execution_count": 6,
   "metadata": {
    "collapsed": true,
    "deletable": true,
    "editable": true
   },
   "outputs": [],
   "source": [
    "resnet50.to(device)\n",
    "resnet50Parallel = torch.nn.DataParallel(resnet50)"
   ]
  },
  {
   "cell_type": "code",
   "execution_count": 7,
   "metadata": {
    "collapsed": true,
    "deletable": true,
    "editable": true
   },
   "outputs": [],
   "source": [
    "PATH = '/scratch/bva212/dl4medProject/ResNet50_2_Classes/bestModelStateDict.pt'\n",
    "resnet50Parallel.load_state_dict(torch.load(PATH))"
   ]
  },
  {
   "cell_type": "code",
   "execution_count": 8,
   "metadata": {
    "collapsed": true,
    "deletable": true,
    "editable": true
   },
   "outputs": [],
   "source": [
    "def evaluate_model(model, dataloader, loss_fn, phase = 'test'):\n",
    "    model.eval()\n",
    "    running_correct = 0\n",
    "    running_loss = 0\n",
    "    running_total = 0\n",
    "    outputs = np.array(0)\n",
    "    preds = np.array(0)\n",
    "    labels = np.array(0)\n",
    "    for data in dataloader[phase]:\n",
    "        inputs = data['x'].type(torch.FloatTensor).to(device)\n",
    "        label = data['y'].to(device)\n",
    "        output = model(inputs)\n",
    "        loss = loss_fn(output, label)\n",
    "        _, pred = torch.max(output, dim = 1)\n",
    "        num_inputs = inputs.size()[0]\n",
    "        output = F.softmax(output)\n",
    "        outputs = np.append(outputs, output.cpu().detach().numpy())\n",
    "        preds = np.append(preds, pred.cpu().detach().numpy())\n",
    "        labels = np.append(labels, label.cpu().detach().numpy())\n",
    "        running_correct += torch.sum(pred ==label).item()\n",
    "        running_loss += loss.item()*num_inputs\n",
    "        running_total += num_inputs\n",
    "    accuracy = float(running_correct/running_total)\n",
    "    loss = float(running_loss/running_total)\n",
    "    \n",
    "    return outputs[1:], preds[1:], labels[1:], accuracy, loss"
   ]
  },
  {
   "cell_type": "code",
   "execution_count": 11,
   "metadata": {
    "collapsed": false,
    "deletable": true,
    "editable": true
   },
   "outputs": [
    {
     "name": "stderr",
     "output_type": "stream",
     "text": [
      "/home/bva212/dl4med/lib/python3.6/site-packages/ipykernel_launcher.py:16: UserWarning: Implicit dimension choice for softmax has been deprecated. Change the call to include dim=X as an argument.\n",
      "  app.launch_new_instance()\n"
     ]
    }
   ],
   "source": [
    "criterion = nn.CrossEntropyLoss()\n",
    "outputs, preds, labels, accuracy, loss = evaluate_model(resnet50Parallel, dataloaders, criterion, phase = 'test')"
   ]
  },
  {
   "cell_type": "code",
   "execution_count": 12,
   "metadata": {
    "collapsed": false,
    "deletable": true,
    "editable": true,
    "scrolled": true
   },
   "outputs": [
    {
     "name": "stdout",
     "output_type": "stream",
     "text": [
      "Accuracy is: 0.72\n",
      "Loss is: 0.5299607209364573\n"
     ]
    }
   ],
   "source": [
    "print('Accuracy is: {}'.format(accuracy))\n",
    "print('Loss is: {}'.format(loss))"
   ]
  },
  {
   "cell_type": "code",
   "execution_count": 13,
   "metadata": {
    "collapsed": true,
    "deletable": true,
    "editable": true
   },
   "outputs": [],
   "source": [
    "def inference(model_ft,loader):\n",
    "    use_gpu = 1\n",
    "    model_ft.eval()\n",
    "    whole_output =[]\n",
    "    whole_target = []\n",
    "\n",
    "    for valData in loader:\n",
    "        data = valData['x']\n",
    "        target = valData['y']\n",
    "        if use_gpu:\n",
    "            data = data.type(torch.FloatTensor).cuda()\n",
    "            target = target.type(torch.LongTensor).cuda()\n",
    "        else:\n",
    "            data, target = data.type(torch.FloatTensor), target.type(torch.LongTensor)\n",
    "\n",
    "        output =F.softmax(model_ft(data),dim=1)\n",
    "        whole_output.append( output.cpu().data.numpy())\n",
    "        whole_target.append( valData['y'].numpy())\n",
    "\n",
    "    whole_output = np.concatenate(whole_output)\n",
    "    whole_target = np.concatenate(whole_target)\n",
    "\n",
    "    y_score = whole_output\n",
    "    y_target = label_binarize(whole_target, classes=[0, 1])\n",
    "    \n",
    "    return y_score, y_target\n",
    "\n",
    "# this function AUC of ROC for binary classification problem. \n",
    "from sklearn.metrics import roc_curve, auc\n",
    "from sklearn.preprocessing import label_binarize\n",
    "from scipy import interp\n",
    "from itertools import cycle\n",
    "\n",
    "def get_AUC(y_score, y_target,plotROC=False):\n",
    "    # Compute ROC curve and ROC area\n",
    "    fpr, tpr, _ = roc_curve(y_target, y_score[:, 1])\n",
    "    roc_auc = auc(fpr, tpr)\n",
    "  \n",
    "    if plotROC:\n",
    "        lw = 2\n",
    "        # Plot all ROC curves\n",
    "        plt.figure()\n",
    "        plt.plot(fpr, tpr, lw=lw,\n",
    "                 label='ROC curve (area = %.6s)'%str(roc_auc))\n",
    "\n",
    "        plt.plot([0, 1], [0, 1], 'k--', lw=lw)\n",
    "        plt.xlim([0.0, 1.0])\n",
    "        plt.ylim([0.0, 1.05])\n",
    "        plt.xlabel('False Positive Rate')\n",
    "        plt.ylabel('True Positive Rate')\n",
    "        plt.title('Receiver operating characteristic (ROC) curve')\n",
    "        plt.legend(loc=\"lower right\")\n",
    "        plt.show()\n",
    "\n",
    "    return roc_auc\n",
    "\n",
    "# confusion matrix function\n",
    "from sklearn.metrics import confusion_matrix\n",
    "import itertools\n",
    "def plot_confusion_matrix(cm, classes,\n",
    "                          normalize=False,\n",
    "                          title='Confusion matrix',\n",
    "                          cmap=plt.cm.Blues):\n",
    "    \"\"\"\n",
    "    This function prints and plots the confusion matrix.\n",
    "    Normalization can be applied by setting `normalize=True`.\n",
    "    \"\"\"\n",
    "    if normalize:\n",
    "        cm = cm.astype('float') / cm.sum(axis=1)[:, np.newaxis]\n",
    "        print(\"Normalized confusion matrix\")\n",
    "    else:\n",
    "        print('Confusion matrix, without normalization')\n",
    "    plt.imshow(cm, interpolation='nearest', cmap=cmap)\n",
    "    plt.title(title)\n",
    "    plt.colorbar()\n",
    "    tick_marks = np.arange(len(classes))\n",
    "    plt.xticks(tick_marks, classes, rotation=45)\n",
    "    plt.yticks(tick_marks, classes)\n",
    "\n",
    "    fmt = '.2f' if normalize else 'd'\n",
    "    thresh = cm.max() / 2.\n",
    "    for i, j in itertools.product(range(cm.shape[0]), range(cm.shape[1])):\n",
    "        plt.text(j, i, format(cm[i, j], fmt),\n",
    "                 horizontalalignment=\"center\",\n",
    "                 color=\"white\" if cm[i, j] > thresh else \"black\")\n",
    "\n",
    "    plt.tight_layout()\n",
    "    plt.ylabel('True label')\n",
    "    plt.xlabel('Predicted label')\n",
    "\n"
   ]
  },
  {
   "cell_type": "code",
   "execution_count": 16,
   "metadata": {
    "collapsed": false,
    "deletable": true,
    "editable": true
   },
   "outputs": [
    {
     "data": {
      "image/png": "[encoded data removed]",
      "text/plain": [
       "<Figure size 432x288 with 1 Axes>"
      ]
     },
     "metadata": {
      "needs_background": "light"
     },
     "output_type": "display_data"
    },
    {
     "name": "stdout",
     "output_type": "stream",
     "text": [
      "AUC:  0.8148631029986962\n",
      "Confusion matrix, without normalization\n"
     ]
    },
    {
     "data": {
      "image/png": "[encoded data removed]",
      "text/plain": [
       "<Figure size 432x288 with 2 Axes>"
      ]
     },
     "metadata": {
      "needs_background": "light"
     },
     "output_type": "display_data"
    }
   ],
   "source": [
    "y_s, y_t=inference(resnet50Parallel, dataloaders['test'])\n",
    "r_AUC_wholeSet = get_AUC(y_s, y_t,True)\n",
    "print('AUC: ', r_AUC_wholeSet)\n",
    "\n",
    "# Compute confusion matrix\n",
    "cnf_matrix = confusion_matrix(y_t, np.argmax(y_s,axis=1))\n",
    "np.set_printoptions(precision=2)\n",
    "\n",
    "# Plot non-normalized confusion matrix\n",
    "plt.figure()\n",
    "class_names = ['0: Benign','1: Malignant']\n",
    "plot_confusion_matrix(cnf_matrix, classes=class_names, title='Confusion matrix')"
   ]
  },
  {
   "cell_type": "code",
   "execution_count": null,
   "metadata": {
    "collapsed": true,
    "deletable": true,
    "editable": true
   },
   "outputs": [],
   "source": []
  }
 ],
 "metadata": {
  "kernelspec": {
   "display_name": "dl4med",
   "language": "python",
   "name": "dl4med"
  },
  "language_info": {
   "codemirror_mode": {
    "name": "ipython",
    "version": 3
   },
   "file_extension": ".py",
   "mimetype": "text/x-python",
   "name": "python",
   "nbconvert_exporter": "python",
   "pygments_lexer": "ipython3",
   "version": "3.6.3"
  }
 },
 "nbformat": 4,
 "nbformat_minor": 2
}
